{
 "cells": [
  {
   "cell_type": "code",
   "execution_count": null,
   "id": "45da088f",
   "metadata": {},
   "outputs": [],
   "source": [
    "from datetime import datetime\n",
    "import pandas as pd\n",
    "import numpy as np\n",
    "file = 'D:/data/wedling gun/E016 2021 18.csv'#10th5028096-1003_2035有缺失值，10th5495048-1004_3598有离群点\n",
    "df = pd.read_csv(file, index_col='time',low_memory=False)\n",
    "df.index = pd.to_datetime(df.index).tz_localize(None)\n",
    "df = df.resample('S').asfreq()\n",
    "df=df.apply(pd.to_numeric, errors='ignore')\n",
    "df[df['in_Sheet_thickness']>5] = np.nan\n",
    "df[df['in_Sheet_thickness']<=0] = np.nan"
   ]
  },
  {
   "cell_type": "code",
   "execution_count": null,
   "id": "bff07df4",
   "metadata": {},
   "outputs": [],
   "source": [
    "from sklearn.preprocessing import StandardScaler, LabelEncoder, OrdinalEncoder, OneHotEncoder, MinMaxScaler\n",
    "list = [2,3,4,5,6,7,8,9,10,12,13,14,15,16,17,18,19]\n",
    "df.iloc[:, list]= StandardScaler().fit_transform(df.iloc[:, list])# 数值类型特征标准化\n",
    "L = df.iloc[:, list]\n",
    "L_imputed=df.iloc[:, list]\n",
    "L_imputed.fillna(method='ffill', inplace=True)\n",
    "L_imputed"
   ]
  },
  {
   "cell_type": "code",
   "execution_count": null,
   "id": "960fbe83",
   "metadata": {},
   "outputs": [],
   "source": [
    "LEN=1200\n",
    "AHEAD=60\n",
    "HIS=120\n",
    "LIST_TAR=[2]\n",
    "LIST_COVS=[1,3,4,9,10,11,12,13,14,16]"
   ]
  },
  {
   "cell_type": "code",
   "execution_count": null,
   "id": "80e5dfbf",
   "metadata": {},
   "outputs": [],
   "source": [
    "%load_ext autoreload\n",
    "%autoreload 2\n",
    "%matplotlib inline\n",
    "\n",
    "import pandas as pd\n",
    "import numpy as np\n",
    "import matplotlib.pyplot as plt\n",
    "\n",
    "from darts import TimeSeries\n",
    "from darts.datasets import AirPassengersDataset\n",
    "from darts.metrics import coefficient_of_variation,mae,mape,marre,mase,mse\n",
    "#data_tar = L_imputed.iloc[-LEN:, LIST_TAR]\n",
    "#data_covs = L_imputed.iloc[-LEN:, LIST_COVS]\n",
    "data_tar = L_imputed.iloc[-LEN-650:-650, LIST_TAR]\n",
    "data_covs = L_imputed.iloc[-LEN-650:-650, LIST_COVS]\n",
    "series_tar = TimeSeries.from_dataframe(data_tar,freq='S').astype(np.float32)\n",
    "train, test = series_tar[:-AHEAD], series_tar[-AHEAD:]\n",
    "series_covs = TimeSeries.from_dataframe(data_covs,freq='S').astype(np.float32)\n",
    "past_covs,future_cosv = series_covs[:-AHEAD], series_covs[-AHEAD:]"
   ]
  },
  {
   "cell_type": "code",
   "execution_count": null,
   "id": "fc50e381",
   "metadata": {},
   "outputs": [],
   "source": [
    "from darts.models import RandomForest\n",
    "\n",
    "model_RandomForest = RandomForest(\n",
    "    lags=HIS, \n",
    "    lags_past_covariates=HIS,\n",
    "    output_chunk_length=AHEAD, \n",
    "    n_estimators=100, \n",
    "    max_depth=None\n",
    "    \n",
    ")\n",
    "model_RandomForest.fit(train,past_covariates=past_covs)\n",
    "predl_RandomForest = model_RandomForest.predict(series=train,n=AHEAD,past_covariates=series_covs)\n",
    "\n",
    "# # scale back:\n",
    "# pred = scaler.inverse_transform(pred)\n",
    "\n",
    "plt.figure(figsize=(35, 10))\n",
    "train[-150:].plot(label=\"train\")\n",
    "test.plot(label=\"actual\")\n",
    "predl_RandomForest.plot(label=\"forecast\")\n",
    "print(\"RandomForest coefficient_of_variation:\", coefficient_of_variation(test, predl_RandomForest))\n",
    "print(\"RandomForest mae:\", mae(test, predl_RandomForest))\n",
    "print(\"RandomForest mape:\", mape(test, predl_RandomForest))\n",
    "print(\"RandomForest marre:\", marre(test, predl_RandomForest))\n",
    "print(\"RandomForest mse:\", mse(test, predl_RandomForest))"
   ]
  },
  {
   "cell_type": "code",
   "execution_count": null,
   "id": "961fd474",
   "metadata": {},
   "outputs": [],
   "source": [
    "from darts.models import LinearRegressionModel\n",
    "\n",
    "model_LinearRegressionModel = LinearRegressionModel(\n",
    "    lags=HIS, \n",
    "    lags_past_covariates=HIS,\n",
    "    output_chunk_length=AHEAD, \n",
    "    random_state=43\n",
    "    \n",
    ")\n",
    "model_LinearRegressionModel.fit(train,past_covariates=series_covs)\n",
    "predl_LinearRegressionModel = model_LinearRegressionModel.predict(series=train,n=AHEAD,past_covariates=past_covs)\n",
    "\n",
    "# # scale back:\n",
    "# pred = scaler.inverse_transform(pred)\n",
    "\n",
    "plt.figure(figsize=(35, 10))\n",
    "train[-HIS:].plot(label=\"train\")\n",
    "test.plot(label=\"actual\")\n",
    "predl_LinearRegressionModel.plot(label=\"forecast\")\n",
    "print(\"LinearRegression coefficient_of_variation:\", coefficient_of_variation(test, predl_LinearRegressionModel))\n",
    "print(\"LinearRegression mae:\", mae(test, predl_LinearRegressionModel))\n",
    "print(\"LinearRegression mape:\", mape(test, predl_LinearRegressionModel))\n",
    "print(\"LinearRegression marre:\", marre(test, predl_LinearRegressionModel))\n",
    "print(\"LinearRegression mse:\", mse(test, predl_LinearRegressionModel))"
   ]
  },
  {
   "cell_type": "code",
   "execution_count": null,
   "id": "ad4e5614",
   "metadata": {},
   "outputs": [],
   "source": [
    "plt.figure(figsize=(35, 10))\n",
    "train[-HIS:].plot(label=\"train\")\n",
    "test.plot(label=\"actual\")\n",
    "predl_LinearRegressionModel.plot(label=\"forecast\")\n",
    "print(\"LinearRegression coefficient_of_variation:\", coefficient_of_variation(test, predl_LinearRegressionModel))\n",
    "print(\"LinearRegression mae:\", mae(test, predl_LinearRegressionModel))\n",
    "print(\"LinearRegression mape:\", mape(test, predl_LinearRegressionModel))\n",
    "print(\"LinearRegression marre:\", marre(test, predl_LinearRegressionModel))\n",
    "print(\"LinearRegression mse:\", mse(test, predl_LinearRegressionModel))"
   ]
  },
  {
   "cell_type": "code",
   "execution_count": null,
   "id": "106ba31e",
   "metadata": {},
   "outputs": [],
   "source": []
  }
 ],
 "metadata": {
  "kernelspec": {
   "display_name": "Python [conda env:darts]",
   "language": "python",
   "name": "conda-env-darts-py"
  },
  "language_info": {
   "codemirror_mode": {
    "name": "ipython",
    "version": 3
   },
   "file_extension": ".py",
   "mimetype": "text/x-python",
   "name": "python",
   "nbconvert_exporter": "python",
   "pygments_lexer": "ipython3",
   "version": "3.7.0"
  }
 },
 "nbformat": 4,
 "nbformat_minor": 5
}
